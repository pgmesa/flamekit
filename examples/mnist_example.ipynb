{
 "cells": [
  {
   "cell_type": "code",
   "execution_count": 1,
   "metadata": {},
   "outputs": [],
   "source": [
    "import torch\n",
    "import torch.nn as nn\n",
    "import torch.optim as optim\n",
    "import torchvision\n",
    "import torchvision.transforms as transforms\n",
    "\n",
    "import torchmetrics\n",
    "\n",
    "from flamekit.training import TorchTrainer\n",
    "from flamekit.devices import select_device, print_cuda_available_devices\n",
    "from flamekit.callbacks import TorchMetricsEvaluator\n",
    "from flamekit.pbars import TQDMProgressBar\n",
    "from flamekit.sampling import split_dataset, CustomSequentialSampler, CustomRandomSampler\n",
    "from flamekit.utils import setup_reproducible_env, get_next_experiment_path"
   ]
  },
  {
   "cell_type": "code",
   "execution_count": 2,
   "metadata": {},
   "outputs": [],
   "source": [
    "seed = 1337\n",
    "checkpoints_dir = './checkpoints'\n",
    "\n",
    "n_classes = 10\n",
    "task = 'multiclass'\n",
    "average = 'macro'\n",
    "\n",
    "epochs = 10\n",
    "batch_size = 128"
   ]
  },
  {
   "cell_type": "code",
   "execution_count": 3,
   "metadata": {},
   "outputs": [
    {
     "name": "stdout",
     "output_type": "stream",
     "text": [
      "Experiments Directory: checkpoints\\experiment_1\n"
     ]
    }
   ],
   "source": [
    "setup_reproducible_env(seed=seed)\n",
    "exp_path = get_next_experiment_path(checkpoints_dir)\n",
    "print(\"Experiments Directory:\", exp_path)"
   ]
  },
  {
   "cell_type": "code",
   "execution_count": 4,
   "metadata": {},
   "outputs": [
    {
     "name": "stdout",
     "output_type": "stream",
     "text": [
      "Training Samples: 48000 | Batches: 375\n",
      "Val Samples: 12000 | Batches: 94\n",
      "Test Samples: 10000 | Batches: 79\n"
     ]
    }
   ],
   "source": [
    "# Define the transformation to normalize the data\n",
    "transform = transforms.Compose([transforms.ToTensor(), transforms.Normalize((0.5,), (0.5,))])\n",
    "\n",
    "# Download and load the MNIST dataset\n",
    "trainset = torchvision.datasets.MNIST(root='./data', train=True, download=True, transform=transform)\n",
    "testset = torchvision.datasets.MNIST(root='./data', train=False, download=True, transform=transform)\n",
    "\n",
    "train_indices, val_indices, test_indices = split_dataset(trainset, val_split=0.2, test_split=0)\n",
    "train_sampler = CustomRandomSampler(train_indices)\n",
    "val_sampler = CustomSequentialSampler(val_indices)\n",
    "\n",
    "# Create data loaders\n",
    "train_loader = torch.utils.data.DataLoader(trainset, batch_size=128, sampler=train_sampler)\n",
    "val_loader = torch.utils.data.DataLoader(trainset, batch_size=128, sampler=val_sampler)\n",
    "test_loader = torch.utils.data.DataLoader(testset, batch_size=128, shuffle=False)\n",
    "\n",
    "print(\"Training Samples:\", len(train_indices), \"| Batches:\", len(train_loader))\n",
    "print(\"Val Samples:\", len(val_indices), \"| Batches:\", len(val_loader))\n",
    "print(\"Test Samples:\", len(testset), \"| Batches:\", len(test_loader))"
   ]
  },
  {
   "cell_type": "code",
   "execution_count": 18,
   "metadata": {},
   "outputs": [
    {
     "name": "stdout",
     "output_type": "stream",
     "text": [
      "Available CUDA devices:\n",
      "+-------+-------------------------------------------+\n",
      "| Index |                Device Name                |\n",
      "+-------+-------------------------------------------+\n",
      "|   0   | NVIDIA GeForce GTX 1650 with Max-Q Design |\n",
      "+-------+-------------------------------------------+\n",
      "Selected Device: cuda:0\n"
     ]
    }
   ],
   "source": [
    "print_cuda_available_devices()\n",
    "device = select_device(index=0, cuda=True)\n",
    "print(\"Selected Device:\", device)"
   ]
  },
  {
   "cell_type": "code",
   "execution_count": 5,
   "metadata": {},
   "outputs": [],
   "source": [
    "# Define a simple neural network model\n",
    "class SimpleNN(nn.Module):\n",
    "    def __init__(self):\n",
    "        super(SimpleNN, self).__init__()\n",
    "        self.fc1 = nn.Linear(28*28, 128)\n",
    "        self.fc2 = nn.Linear(128, 64)\n",
    "        self.fc3 = nn.Linear(64, 10)\n",
    "\n",
    "    def forward(self, x):\n",
    "        x = x.view(-1, 28*28)\n",
    "        x = torch.relu(self.fc1(x))\n",
    "        x = torch.relu(self.fc2(x))\n",
    "        x = self.fc3(x)\n",
    "        return x"
   ]
  },
  {
   "cell_type": "code",
   "execution_count": 6,
   "metadata": {},
   "outputs": [],
   "source": [
    "# Instantiate the model, loss function, and optimizer\n",
    "model = SimpleNN()\n",
    "criterion = nn.CrossEntropyLoss()\n",
    "optimizer = optim.Adam(model.parameters(), lr=0.001)"
   ]
  },
  {
   "cell_type": "markdown",
   "metadata": {},
   "source": [
    "Train Model"
   ]
  },
  {
   "cell_type": "code",
   "execution_count": 8,
   "metadata": {},
   "outputs": [],
   "source": [
    "trainer = TorchTrainer(model, device)\n",
    "trainer.compile(optimizer, criterion=criterion)"
   ]
  },
  {
   "cell_type": "code",
   "execution_count": 9,
   "metadata": {},
   "outputs": [],
   "source": [
    "class MNISTEvaluator(TorchMetricsEvaluator):\n",
    "    \n",
    "    def calc_step_metrics(self, trainer, model, outputs, labels, stage, batch_idx) -> list[tuple]:\n",
    "        outputs = outputs.argmax(dim=1)\n",
    "        return super().calc_step_metrics(trainer, model, outputs, labels, stage, batch_idx)"
   ]
  },
  {
   "cell_type": "code",
   "execution_count": 10,
   "metadata": {},
   "outputs": [
    {
     "name": "stderr",
     "output_type": "stream",
     "text": [
      "Epoch 1/10: 100% |██████████████████████████████| 375/375 [00:34, loss=0.499, acc=0.855, auc=0.985, f1=0.854, precision=0.855, recall=0.854, val_loss=0.284, val_acc=0.916, val_auc=0.994, val_f1=0.916, val_precision=0.918, val_recall=0.915]\n"
     ]
    },
    {
     "name": "stdout",
     "output_type": "stream",
     "text": [
      "[INFO] Saving best checkpoint, regarding 'val_loss' metric -- mode='min' (checkpoints\\experiment_1\\SimpleNN_val-loss_0.2841_1_best.tar)\n"
     ]
    },
    {
     "name": "stderr",
     "output_type": "stream",
     "text": [
      "Epoch 2/10: 100% |██████████████████████████████| 375/375 [00:24, loss=0.245, acc=0.927, auc=0.995, f1=0.927, precision=0.927, recall=0.927, val_loss=0.213, val_acc=0.934, val_auc=0.997, val_f1=0.935, val_precision=0.937, val_recall=0.935]\n"
     ]
    },
    {
     "name": "stdout",
     "output_type": "stream",
     "text": [
      "[INFO] Saving best checkpoint, regarding 'val_loss' metric -- mode='min' (checkpoints\\experiment_1\\SimpleNN_val-loss_0.2129_2_best.tar)\n"
     ]
    },
    {
     "name": "stderr",
     "output_type": "stream",
     "text": [
      "Epoch 3/10: 100% |██████████████████████████████| 375/375 [00:22, loss=0.181, acc=0.946, auc=0.997, f1=0.946, precision=0.946, recall=0.946, val_loss=0.189, val_acc=0.94, val_auc=0.998, val_f1=0.941, val_precision=0.943, val_recall=0.941]\n"
     ]
    },
    {
     "name": "stdout",
     "output_type": "stream",
     "text": [
      "[INFO] Saving best checkpoint, regarding 'val_loss' metric -- mode='min' (checkpoints\\experiment_1\\SimpleNN_val-loss_0.1887_3_best.tar)\n"
     ]
    },
    {
     "name": "stderr",
     "output_type": "stream",
     "text": [
      "Epoch 4/10: 100% |██████████████████████████████| 375/375 [00:25, loss=0.146, acc=0.956, auc=0.998, f1=0.957, precision=0.957, recall=0.957, val_loss=0.163, val_acc=0.948, val_auc=0.998, val_f1=0.948, val_precision=0.95, val_recall=0.948]\n"
     ]
    },
    {
     "name": "stdout",
     "output_type": "stream",
     "text": [
      "[INFO] Saving best checkpoint, regarding 'val_loss' metric -- mode='min' (checkpoints\\experiment_1\\SimpleNN_val-loss_0.1631_4_best.tar)\n"
     ]
    },
    {
     "name": "stderr",
     "output_type": "stream",
     "text": [
      "Epoch 5/10: 100% |██████████████████████████████| 375/375 [00:26, loss=0.123, acc=0.963, auc=0.999, f1=0.963, precision=0.963, recall=0.963, val_loss=0.14, val_acc=0.956, val_auc=0.999, val_f1=0.957, val_precision=0.957, val_recall=0.956]\n"
     ]
    },
    {
     "name": "stdout",
     "output_type": "stream",
     "text": [
      "[INFO] Saving best checkpoint, regarding 'val_loss' metric -- mode='min' (checkpoints\\experiment_1\\SimpleNN_val-loss_0.1397_5_best.tar)\n"
     ]
    },
    {
     "name": "stderr",
     "output_type": "stream",
     "text": [
      "Epoch 6/10: 100% |██████████████████████████████| 375/375 [00:29, loss=0.104, acc=0.967, auc=0.999, f1=0.968, precision=0.968, recall=0.968, val_loss=0.123, val_acc=0.963, val_auc=0.999, val_f1=0.963, val_precision=0.963, val_recall=0.963]\n"
     ]
    },
    {
     "name": "stdout",
     "output_type": "stream",
     "text": [
      "[INFO] Saving best checkpoint, regarding 'val_loss' metric -- mode='min' (checkpoints\\experiment_1\\SimpleNN_val-loss_0.1232_6_best.tar)\n"
     ]
    },
    {
     "name": "stderr",
     "output_type": "stream",
     "text": [
      "Epoch 7/10: 100% |██████████████████████████████| 375/375 [00:32, loss=0.0885, acc=0.972, auc=0.999, f1=0.972, precision=0.972, recall=0.972, val_loss=0.104, val_acc=0.968, val_auc=0.999, val_f1=0.968, val_precision=0.968, val_recall=0.968]\n"
     ]
    },
    {
     "name": "stdout",
     "output_type": "stream",
     "text": [
      "[INFO] Saving best checkpoint, regarding 'val_loss' metric -- mode='min' (checkpoints\\experiment_1\\SimpleNN_val-loss_0.1038_7_best.tar)\n"
     ]
    },
    {
     "name": "stderr",
     "output_type": "stream",
     "text": [
      "Epoch 8/10: 100% |██████████████████████████████| 375/375 [00:28, loss=0.078, acc=0.975, auc=0.999, f1=0.976, precision=0.976, recall=0.976, val_loss=0.123, val_acc=0.963, val_auc=0.999, val_f1=0.963, val_precision=0.964, val_recall=0.963]\n",
      "Epoch 9/10: 100% |██████████████████████████████| 375/375 [00:24, loss=0.0736, acc=0.977, auc=1, f1=0.977, precision=0.976, recall=0.977, val_loss=0.107, val_acc=0.969, val_auc=0.999, val_f1=0.968, val_precision=0.969, val_recall=0.968]\n",
      "Epoch 10/10: 100% |██████████████████████████████| 375/375 [00:28, loss=0.0642, acc=0.979, auc=1, f1=0.979, precision=0.979, recall=0.979, val_loss=0.11, val_acc=0.966, val_auc=0.999, val_f1=0.967, val_precision=0.967, val_recall=0.967]"
     ]
    },
    {
     "name": "stdout",
     "output_type": "stream",
     "text": [
      "[INFO] Saving last checkpoint of the training to 'checkpoints\\experiment_1\\SimpleNN_val-loss_0.1104_10_last.tar'\n"
     ]
    },
    {
     "name": "stderr",
     "output_type": "stream",
     "text": [
      "\n"
     ]
    }
   ],
   "source": [
    "evaluator = MNISTEvaluator()\n",
    "\n",
    "step_metrics = {\n",
    "    'acc': torchmetrics.Accuracy(task=task, num_classes=n_classes, average=average),\n",
    "}\n",
    "epoch_metrics = {\n",
    "    'precision': torchmetrics.Precision(task=task, num_classes=n_classes, average=average),\n",
    "    'recall': torchmetrics.Recall(task=task, num_classes=n_classes, average=average),\n",
    "    'f1': torchmetrics.F1Score(task=task, num_classes=n_classes, average=average),\n",
    "    'auc': torchmetrics.AUROC(task=task, num_classes=n_classes, average=average),\n",
    "}\n",
    "evaluator.add_step_metrics(step_metrics)\n",
    "evaluator.add_epoch_metric(epoch_metrics)\n",
    "\n",
    "pbar = TQDMProgressBar(show_remaining_time=False, show_rate=False)\n",
    "callbacks = [evaluator, pbar]\n",
    "\n",
    "history = trainer.fit(\n",
    "    train_loader,\n",
    "    validation_loader=val_loader,\n",
    "    epochs=epochs,\n",
    "    dest_path=exp_path,\n",
    "    monitor='val_loss',\n",
    "    prefix=model.__class__.__name__,\n",
    "    save_best=True,\n",
    "    callbacks=callbacks\n",
    ")"
   ]
  },
  {
   "cell_type": "markdown",
   "metadata": {},
   "source": [
    "Plot training metrics"
   ]
  },
  {
   "cell_type": "code",
   "execution_count": 11,
   "metadata": {},
   "outputs": [
    {
     "data": {
      "image/png": "[encoded data removed]",
      "text/plain": [
       "<Figure size 1500x500 with 2 Axes>"
      ]
     },
     "metadata": {},
     "output_type": "display_data"
    }
   ],
   "source": [
    "trainer.plot(metrics=['loss', 'acc'])"
   ]
  },
  {
   "cell_type": "code",
   "execution_count": 12,
   "metadata": {},
   "outputs": [
    {
     "data": {
      "image/png": "[encoded data removed]",
      "text/plain": [
       "<Figure size 1500x500 with 2 Axes>"
      ]
     },
     "metadata": {},
     "output_type": "display_data"
    }
   ],
   "source": [
    "trainer.plot(metrics=['f1', 'auc'])"
   ]
  },
  {
   "cell_type": "markdown",
   "metadata": {},
   "source": [
    "Load best checkpoint"
   ]
  },
  {
   "cell_type": "code",
   "execution_count": 13,
   "metadata": {},
   "outputs": [
    {
     "name": "stdout",
     "output_type": "stream",
     "text": [
      "[OK] Checkpoint 'checkpoints\\experiment_1\\SimpleNN_val-loss_0.1038_7_best.tar' has been loaded successfully\n"
     ]
    }
   ],
   "source": [
    "trainer.load_best()"
   ]
  },
  {
   "cell_type": "markdown",
   "metadata": {},
   "source": [
    "Evaluate on testset"
   ]
  },
  {
   "cell_type": "code",
   "execution_count": 14,
   "metadata": {},
   "outputs": [
    {
     "name": "stderr",
     "output_type": "stream",
     "text": [
      "Predicting: 100% |██████████████████████████████| 79/79 [00:05, loss=0.0998, acc=0.969, auc=0.999, f1=0.969, precision=0.969, recall=0.969]\n"
     ]
    }
   ],
   "source": [
    "trainer.predict(test_loader, callbacks=callbacks)"
   ]
  }
 ],
 "metadata": {
  "kernelspec": {
   "display_name": "base-3.9",
   "language": "python",
   "name": "python3"
  },
  "language_info": {
   "codemirror_mode": {
    "name": "ipython",
    "version": 3
   },
   "file_extension": ".py",
   "mimetype": "text/x-python",
   "name": "python",
   "nbconvert_exporter": "python",
   "pygments_lexer": "ipython3",
   "version": "3.9.16"
  }
 },
 "nbformat": 4,
 "nbformat_minor": 2
}
